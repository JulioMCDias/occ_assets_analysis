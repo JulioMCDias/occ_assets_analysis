{
 "cells": [
  {
   "attachments": {},
   "cell_type": "markdown",
   "metadata": {},
   "source": [
    "# Get directory"
   ]
  },
  {
   "cell_type": "code",
   "execution_count": 10,
   "metadata": {},
   "outputs": [],
   "source": [
    "from os import listdir\n",
    "from os.path import isfile, join\n",
    "\n",
    "page_path = 'occ_assets/pages'\n",
    "pages_files = [f for f in listdir(page_path) if isfile(join(page_path, f))]\n",
    "\n",
    "components_path = 'occ_assets/components'\n",
    "assets_components_name = [f for f in listdir(components_path)]\n",
    "\n",
    "assets_components_path = [components_path + '/' +\n",
    "                          name for name in assets_components_name]\n",
    "\n",
    "assets_components = zip(assets_components_name, assets_components_path)\n",
    "\n",
    "components_files = [{'name': name, 'path': path, 'files': [f for f in listdir(\n",
    "    path) if isfile(join(path, f))]} for name, path in assets_components]\n"
   ]
  },
  {
   "attachments": {},
   "cell_type": "markdown",
   "metadata": {},
   "source": [
    "### Build component tree"
   ]
  },
  {
   "cell_type": "code",
   "execution_count": 11,
   "metadata": {},
   "outputs": [],
   "source": [
    "import json\n",
    "\n",
    "def get_file(path):\n",
    "    with open(path) as f:\n",
    "        d = json.load(f)\n",
    "    return d\n",
    "\n",
    "\n",
    "def locate_files_index_layout(file_name):\n",
    "    folder_compo = [f for f in components_files if f['name'] == file_name][0]\n",
    "    files = {}\n",
    "    if 'index.json' in folder_compo['files']:\n",
    "        files.update(\n",
    "            {'index': get_file(folder_compo['path']+'/'+'index.json')})\n",
    "\n",
    "    if 'layout.json' in folder_compo['files']:\n",
    "        files.update(\n",
    "            {'layout': get_file(folder_compo['path']+'/'+'layout.json')})\n",
    "    return files\n",
    "\n",
    "\n",
    "def get_components_layout(layout):\n",
    "    componets = []\n",
    "    for compo in layout:\n",
    "        if 'components' in compo:\n",
    "            componets.extend(compo['components'])\n",
    "    return componets\n",
    "\n",
    "\n",
    "def get_components(compo_name):\n",
    "    components_object = {}\n",
    "    for c_name in compo_name:\n",
    "        try :\n",
    "            files = locate_files_index_layout(c_name)\n",
    "            components_object.update({\n",
    "                c_name: {\n",
    "                    'type': files['index']['type'] if 'index' in files else {},\n",
    "                    'COMPONENTS': get_components(get_components_layout(files['layout']['regions'])) if 'layout' in files else {},\n",
    "                }\n",
    "            })\n",
    "        except Exception as ex:\n",
    "            print(ex)\n",
    "    return components_object\n",
    "\n",
    "\n",
    "file_json_tree = {}\n",
    "for file in pages_files:\n",
    "    with open(page_path + '/' + file) as f:\n",
    "        d = json.load(f)\n",
    "        compo_name = get_components_layout(d['layout'])\n",
    "        file_json_tree.update({\n",
    "            file: {\n",
    "                'address': d['address'],\n",
    "                'title': d['title'],\n",
    "                'COMPONENTS': get_components(compo_name)\n",
    "            }\n",
    "        })\n"
   ]
  },
  {
   "attachments": {},
   "cell_type": "markdown",
   "metadata": {},
   "source": [
    "### Export asset component tree in json"
   ]
  },
  {
   "cell_type": "code",
   "execution_count": 12,
   "metadata": {},
   "outputs": [],
   "source": [
    "import json\n",
    "\n",
    "with open ('export/tree_components.json', 'w', encoding='utf-8') as f:\n",
    "    json.dump(file_json_tree, f, ensure_ascii=False)"
   ]
  },
  {
   "attachments": {},
   "cell_type": "markdown",
   "metadata": {},
   "source": [
    "### Build unused compenents"
   ]
  },
  {
   "cell_type": "code",
   "execution_count": 13,
   "metadata": {},
   "outputs": [],
   "source": [
    "def get_subcomponent(components):\n",
    "  list_name_components = list(components.keys())\n",
    "\n",
    "  list_components = list(components.values())\n",
    "  if(len(list_components) > 0):\n",
    "    for component in list_components:\n",
    "      list_name_components += get_subcomponent(component['COMPONENTS'])\n",
    "\n",
    "  return list_name_components\n",
    "\n",
    "list_page = list(file_json_tree.values())\n",
    "list_components = []\n",
    "\n",
    "for components in list_page:\n",
    "  list_components += get_subcomponent(components['COMPONENTS'])\n",
    "\n",
    "list_components = list(set(list_components))\n",
    "\n",
    "file_json_not_user = {\n",
    "  \"components\": [i for i in assets_components_name if i not in list_components]\n",
    "}\n"
   ]
  },
  {
   "attachments": {},
   "cell_type": "markdown",
   "metadata": {},
   "source": [
    "### Export unused components"
   ]
  },
  {
   "cell_type": "code",
   "execution_count": 14,
   "metadata": {},
   "outputs": [],
   "source": [
    "import json\n",
    "\n",
    "with open ('export/unused_components.json', 'w', encoding='utf-8') as f:\n",
    "    json.dump(file_json_not_user, f, ensure_ascii=False)"
   ]
  }
 ],
 "metadata": {
  "kernelspec": {
   "display_name": "Python 3",
   "language": "python",
   "name": "python3"
  },
  "language_info": {
   "codemirror_mode": {
    "name": "ipython",
    "version": 3
   },
   "file_extension": ".py",
   "mimetype": "text/x-python",
   "name": "python",
   "nbconvert_exporter": "python",
   "pygments_lexer": "ipython3",
   "version": "3.11.2"
  },
  "orig_nbformat": 4
 },
 "nbformat": 4,
 "nbformat_minor": 2
}
