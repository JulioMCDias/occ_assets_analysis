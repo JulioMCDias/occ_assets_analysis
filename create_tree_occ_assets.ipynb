{
 "cells": [
  {
   "attachments": {},
   "cell_type": "markdown",
   "metadata": {},
   "source": [
    "# Get directory"
   ]
  },
  {
   "cell_type": "code",
   "execution_count": 29,
   "metadata": {},
   "outputs": [],
   "source": [
    "from os import listdir\n",
    "from os.path import isfile, join\n",
    "\n",
    "page_path = 'occ_assets/pages'\n",
    "pages_files = [f for f in listdir(page_path) if isfile(join(page_path, f))]\n",
    "\n",
    "components_path = 'occ_assets/components'\n",
    "assets_components_name = [f for f in listdir(components_path)]\n",
    "\n",
    "assets_components_path = [components_path + '/' +\n",
    "                          name for name in assets_components_name]\n",
    "\n",
    "assets_components = zip(assets_components_name, assets_components_path)\n",
    "\n",
    "components_files = [{'name': name, 'path': path, 'files': [f for f in listdir(\n",
    "    path) if isfile(join(path, f))]} for name, path in assets_components]\n"
   ]
  },
  {
   "cell_type": "code",
   "execution_count": 66,
   "metadata": {},
   "outputs": [],
   "source": [
    "import json\n",
    "import numpy as np\n",
    "\n",
    "\n",
    "def get_file(path):\n",
    "    with open(path) as f:\n",
    "        d = json.load(f)\n",
    "    return d\n",
    "\n",
    "\n",
    "def locate_files_index_layout(file_name):\n",
    "    folder_compo = [f for f in components_files if f['name'] == file_name][0]\n",
    "    files = {}\n",
    "    if 'index.json' in folder_compo['files']:\n",
    "        files.update(\n",
    "            {'index': get_file(folder_compo['path']+'/'+'index.json')})\n",
    "\n",
    "    if 'layout.json' in folder_compo['files']:\n",
    "        files.update(\n",
    "            {'layout': get_file(folder_compo['path']+'/'+'layout.json')})\n",
    "    return files\n",
    "\n",
    "\n",
    "def get_components_layout(layout):\n",
    "    componets = []\n",
    "    for compo in layout:\n",
    "        componets.extend(compo['components'])\n",
    "    return componets\n",
    "\n",
    "\n",
    "def get_components(compo_name):\n",
    "    components_object = {}\n",
    "    for c_name in compo_name:\n",
    "        try :\n",
    "            files = locate_files_index_layout(c_name)\n",
    "            components_object.update({\n",
    "                c_name: {\n",
    "                    'type': files['index']['type'] if 'index' in files else {},\n",
    "                    'COMPONENTS': get_components(get_components_layout(files['layout']['regions'])) if 'layout' in files else {},\n",
    "                }\n",
    "            })\n",
    "        except Exception as ex:\n",
    "            print(ex)\n",
    "    return components_object\n",
    "\n",
    "\n",
    "file_json = {}\n",
    "for file in pages_files:\n",
    "    with open(page_path + '/' + file) as f:\n",
    "        d = json.load(f)\n",
    "        compo_name = get_components_layout(d['layout'])\n",
    "        file_json.update({\n",
    "            file: {\n",
    "                'address': d['address'],\n",
    "                'title': d['title'],\n",
    "                'COMPONENTS': get_components(compo_name)\n",
    "            }\n",
    "        })\n"
   ]
  },
  {
   "cell_type": "code",
   "execution_count": 64,
   "metadata": {},
   "outputs": [],
   "source": [
    "import json\n",
    "\n",
    "with open ('export/file.json', 'w', encoding='utf-8') as f:\n",
    "    json.dump(file_json, f, ensure_ascii=False)"
   ]
  }
 ],
 "metadata": {
  "kernelspec": {
   "display_name": "Python 3",
   "language": "python",
   "name": "python3"
  },
  "language_info": {
   "codemirror_mode": {
    "name": "ipython",
    "version": 3
   },
   "file_extension": ".py",
   "mimetype": "text/x-python",
   "name": "python",
   "nbconvert_exporter": "python",
   "pygments_lexer": "ipython3",
   "version": "3.11.2"
  },
  "orig_nbformat": 4
 },
 "nbformat": 4,
 "nbformat_minor": 2
}
